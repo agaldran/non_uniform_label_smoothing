{
 "cells": [
  {
   "cell_type": "code",
   "execution_count": 1,
   "metadata": {},
   "outputs": [],
   "source": [
    "import torch\n",
    "import torch.nn.functional as F\n",
    "import numpy as np\n",
    "import scipy.stats as stats2\n",
    "import matplotlib.pyplot as plt\n",
    "\n",
    "%load_ext autoreload\n",
    "%autoreload 2"
   ]
  },
  {
   "cell_type": "markdown",
   "metadata": {},
   "source": [
    "# Non-Uniform Label Smoothing for DR grading\n",
    "In this paper, we introduce a new way of manipulating labels."
   ]
  },
  {
   "cell_type": "markdown",
   "metadata": {},
   "source": [
    "## Numpy implementation\n",
    "### Standard Label Smoothing:\n",
    "For this to work, we need our labels to be one-hot encoded. For the sake of illustration, let us assume our problem has 5 different classes, and let us fix our label to be `l=2` here. "
   ]
  },
  {
   "cell_type": "code",
   "execution_count": 2,
   "metadata": {},
   "outputs": [],
   "source": [
    "n_classes = 5\n",
    "l = 2"
   ]
  },
  {
   "cell_type": "markdown",
   "metadata": {},
   "source": [
    "One can easily one-hot encode such label with a one-liner in `numpy`:"
   ]
  },
  {
   "cell_type": "code",
   "execution_count": 3,
   "metadata": {},
   "outputs": [],
   "source": [
    "def one_hot_encoding(l, n_classes):\n",
    "    return np.eye(n_classes)[l]"
   ]
  },
  {
   "cell_type": "code",
   "execution_count": 4,
   "metadata": {},
   "outputs": [
    {
     "data": {
      "text/plain": [
       "array([0., 0., 1., 0., 0.])"
      ]
     },
     "execution_count": 4,
     "metadata": {},
     "output_type": "execute_result"
    }
   ],
   "source": [
    "one_hot = one_hot_encoding(l, n_classes)\n",
    "one_hot"
   ]
  },
  {
   "cell_type": "markdown",
   "metadata": {},
   "source": [
    "Now, in order to implement Label Smoothing, we first need a uniform distribution sampled such that it has the same size as `one_hot`:"
   ]
  },
  {
   "cell_type": "code",
   "execution_count": 5,
   "metadata": {},
   "outputs": [
    {
     "data": {
      "text/plain": [
       "array([0.2, 0.2, 0.2, 0.2, 0.2])"
      ]
     },
     "execution_count": 5,
     "metadata": {},
     "output_type": "execute_result"
    }
   ],
   "source": [
    "uniform = np.ones_like(one_hot)/n_classes\n",
    "uniform"
   ]
  },
  {
   "cell_type": "markdown",
   "metadata": {},
   "source": [
    "We then need to assign a weight for each of both representations, and the Uniform Label Smoothing scheme is easily built out of them:"
   ]
  },
  {
   "cell_type": "code",
   "execution_count": 6,
   "metadata": {},
   "outputs": [
    {
     "data": {
      "text/plain": [
       "array([0.04, 0.04, 0.84, 0.04, 0.04])"
      ]
     },
     "execution_count": 6,
     "metadata": {},
     "output_type": "execute_result"
    }
   ],
   "source": [
    "alpha = 0.2\n",
    "soft_labels = (1 - alpha)*one_hot + alpha*uniform\n",
    "soft_labels"
   ]
  },
  {
   "cell_type": "markdown",
   "metadata": {},
   "source": [
    "Or in a single function:"
   ]
  },
  {
   "cell_type": "code",
   "execution_count": 7,
   "metadata": {},
   "outputs": [],
   "source": [
    "def get_uniform_label_smoothing(l, n_classes, alpha=0.2):\n",
    "    one_hot = one_hot_encoding(l, n_classes)\n",
    "    uniform = np.ones_like(one_hot)/n_classes\n",
    "    return (1 - alpha)*one_hot + alpha*uniform"
   ]
  },
  {
   "cell_type": "code",
   "execution_count": 8,
   "metadata": {},
   "outputs": [
    {
     "data": {
      "text/plain": [
       "array([0.04, 0.04, 0.84, 0.04, 0.04])"
      ]
     },
     "execution_count": 8,
     "metadata": {},
     "output_type": "execute_result"
    }
   ],
   "source": [
    "get_uniform_label_smoothing(l, n_classes=5, alpha = 0.2)"
   ]
  },
  {
   "cell_type": "markdown",
   "metadata": {},
   "source": [
    "### Non-Uniform Label Smoothing:\n",
    "The key here is that there is some relationship in the labels that Label Smoothing is ignoring. Namely, a given label is closer to its neighbors than to further away one. Motivated by this, we first build a set of Gaussian distribution samplings, centered at each class, as follows:"
   ]
  },
  {
   "cell_type": "code",
   "execution_count": 9,
   "metadata": {},
   "outputs": [],
   "source": [
    "def get_gaussian_label_distribution(n_classes, std=0.5):\n",
    "    CLs = []\n",
    "    for l in range(n_classes):\n",
    "        CLs.append(stats2.norm.pdf(np.arange(n_classes), l, std))\n",
    "    dists = np.stack(CLs, axis=0)\n",
    "    return dists"
   ]
  },
  {
   "cell_type": "code",
   "execution_count": 10,
   "metadata": {},
   "outputs": [],
   "source": [
    "dist = get_gaussian_label_distribution(n_classes)"
   ]
  },
  {
   "cell_type": "markdown",
   "metadata": {},
   "source": [
    "Now we can simply access `dist` at the row corresponding to the label we want to smooth, and we are done:"
   ]
  },
  {
   "cell_type": "code",
   "execution_count": 11,
   "metadata": {},
   "outputs": [
    {
     "data": {
      "text/plain": [
       "array([0.   , 0.108, 0.798, 0.108, 0.   ])"
      ]
     },
     "execution_count": 11,
     "metadata": {},
     "output_type": "execute_result"
    }
   ],
   "source": [
    "np.around(dist[l], 3)"
   ]
  },
  {
   "cell_type": "markdown",
   "metadata": {},
   "source": [
    "Or in a single function:"
   ]
  },
  {
   "cell_type": "code",
   "execution_count": 12,
   "metadata": {},
   "outputs": [],
   "source": [
    "def get_non_uniform_label_smoothing(l, n_classes, std=0.5):\n",
    "    dist = get_gaussian_label_distribution(n_classes, std=std)\n",
    "    return dist[l]"
   ]
  },
  {
   "cell_type": "code",
   "execution_count": 13,
   "metadata": {},
   "outputs": [
    {
     "data": {
      "text/plain": [
       "array([0.01519465, 0.2186801 , 0.53192304, 0.2186801 , 0.01519465])"
      ]
     },
     "execution_count": 13,
     "metadata": {},
     "output_type": "execute_result"
    }
   ],
   "source": [
    "get_non_uniform_label_smoothing(l, n_classes=5, std = 0.75)"
   ]
  },
  {
   "cell_type": "markdown",
   "metadata": {},
   "source": [
    "Let us visualize the difference in a plot. We exaggerate a bit the `alpha` weight in uniform label smoothing and the standard deviation in non-uniform label smoothing to better appreciate what's going on:"
   ]
  },
  {
   "cell_type": "code",
   "execution_count": 14,
   "metadata": {},
   "outputs": [
    {
     "data": {
      "image/png": "[encoded data removed]",
      "text/plain": [
       "<Figure size 1440x576 with 2 Axes>"
      ]
     },
     "metadata": {
      "needs_background": "light"
     },
     "output_type": "display_data"
    }
   ],
   "source": [
    "fig, ax = plt.subplots(ncols=2, figsize=(20,8))\n",
    "ax[0].bar(np.arange(n_classes), get_uniform_label_smoothing(l, n_classes, alpha = 0.57))\n",
    "ax[1].bar(np.arange(n_classes), get_non_uniform_label_smoothing(l, n_classes, std = 0.75))\n",
    "plt.show()"
   ]
  },
  {
   "cell_type": "markdown",
   "metadata": {},
   "source": [
    "Note that the above implementation should work for any amount of classes."
   ]
  },
  {
   "cell_type": "markdown",
   "metadata": {},
   "source": [
    "## PyTorch implementation\n",
    "### Standard Label Smoothing:\n",
    "Again, we assume our problem has 5 different classes, and let us fix our label to be `l=2` here. "
   ]
  },
  {
   "cell_type": "code",
   "execution_count": 15,
   "metadata": {},
   "outputs": [],
   "source": [
    "n_classes = 5\n",
    "l_tens = torch.Tensor([2]).long()"
   ]
  },
  {
   "cell_type": "code",
   "execution_count": 16,
   "metadata": {},
   "outputs": [
    {
     "data": {
      "text/plain": [
       "device(type='cpu')"
      ]
     },
     "execution_count": 16,
     "metadata": {},
     "output_type": "execute_result"
    }
   ],
   "source": [
    "device = torch.device('cuda' if torch.cuda.is_available() else 'cpu')\n",
    "device"
   ]
  },
  {
   "cell_type": "code",
   "execution_count": 17,
   "metadata": {},
   "outputs": [],
   "source": [
    "def one_hot_encoding_torch(l, n_classes):\n",
    "    return torch.zeros(l.size(0), n_classes).to(l.device).scatter_(1, l.view(-1, 1), 1)"
   ]
  },
  {
   "cell_type": "code",
   "execution_count": 18,
   "metadata": {},
   "outputs": [
    {
     "data": {
      "text/plain": [
       "tensor([[0., 0., 1., 0., 0.]])"
      ]
     },
     "execution_count": 18,
     "metadata": {},
     "output_type": "execute_result"
    }
   ],
   "source": [
    "one_hot = one_hot_encoding_torch(l_tens, n_classes)\n",
    "one_hot"
   ]
  },
  {
   "cell_type": "code",
   "execution_count": 19,
   "metadata": {},
   "outputs": [
    {
     "data": {
      "text/plain": [
       "tensor([[0.2000, 0.2000, 0.2000, 0.2000, 0.2000]])"
      ]
     },
     "execution_count": 19,
     "metadata": {},
     "output_type": "execute_result"
    }
   ],
   "source": [
    "uniform = torch.ones_like(one_hot)/n_classes\n",
    "uniform"
   ]
  },
  {
   "cell_type": "code",
   "execution_count": 20,
   "metadata": {},
   "outputs": [
    {
     "data": {
      "text/plain": [
       "tensor([[0.0400, 0.0400, 0.8400, 0.0400, 0.0400]])"
      ]
     },
     "execution_count": 20,
     "metadata": {},
     "output_type": "execute_result"
    }
   ],
   "source": [
    "alpha = 0.2\n",
    "soft_labels = (1 - alpha)*one_hot + alpha*uniform\n",
    "soft_labels"
   ]
  },
  {
   "cell_type": "code",
   "execution_count": 21,
   "metadata": {},
   "outputs": [],
   "source": [
    "def get_uniform_label_smoothing_torch(l, n_classes, alpha=0.2):\n",
    "    one_hot = one_hot_encoding_torch(l, n_classes)\n",
    "    uniform = torch.ones_like(one_hot)/n_classes\n",
    "    return (1 - alpha)*one_hot + alpha*uniform"
   ]
  },
  {
   "cell_type": "code",
   "execution_count": 22,
   "metadata": {},
   "outputs": [
    {
     "data": {
      "text/plain": [
       "tensor([[0.0400, 0.0400, 0.8400, 0.0400, 0.0400]])"
      ]
     },
     "execution_count": 22,
     "metadata": {},
     "output_type": "execute_result"
    }
   ],
   "source": [
    "get_uniform_label_smoothing_torch(l_tens, n_classes=5, alpha = 0.2)"
   ]
  },
  {
   "cell_type": "markdown",
   "metadata": {},
   "source": [
    "See if it works with a batch of labels:"
   ]
  },
  {
   "cell_type": "code",
   "execution_count": 23,
   "metadata": {},
   "outputs": [],
   "source": [
    "l_tens = torch.Tensor([0,1,2,3,4]).long()"
   ]
  },
  {
   "cell_type": "code",
   "execution_count": 24,
   "metadata": {},
   "outputs": [
    {
     "data": {
      "text/plain": [
       "tensor([[0.8400, 0.0400, 0.0400, 0.0400, 0.0400],\n",
       "        [0.0400, 0.8400, 0.0400, 0.0400, 0.0400],\n",
       "        [0.0400, 0.0400, 0.8400, 0.0400, 0.0400],\n",
       "        [0.0400, 0.0400, 0.0400, 0.8400, 0.0400],\n",
       "        [0.0400, 0.0400, 0.0400, 0.0400, 0.8400]])"
      ]
     },
     "execution_count": 24,
     "metadata": {},
     "output_type": "execute_result"
    }
   ],
   "source": [
    "get_uniform_label_smoothing_torch(l_tens, n_classes=5, alpha = 0.2)"
   ]
  },
  {
   "cell_type": "code",
   "execution_count": 25,
   "metadata": {},
   "outputs": [],
   "source": [
    "batch = get_uniform_label_smoothing_torch(l_tens, n_classes=5, alpha = 0.2)"
   ]
  },
  {
   "cell_type": "code",
   "execution_count": 26,
   "metadata": {},
   "outputs": [
    {
     "data": {
      "image/png": "[encoded data removed]",
      "text/plain": [
       "<Figure size 1440x288 with 5 Axes>"
      ]
     },
     "metadata": {
      "needs_background": "light"
     },
     "output_type": "display_data"
    }
   ],
   "source": [
    "fig, ax = plt.subplots(ncols=5, figsize=(20,4))\n",
    "for i in range(n_classes):\n",
    "    ax[i].bar(np.arange(n_classes), batch[i])\n",
    "plt.show()"
   ]
  },
  {
   "cell_type": "markdown",
   "metadata": {},
   "source": [
    "### Non-Uniform Label Smoothing:"
   ]
  },
  {
   "cell_type": "code",
   "execution_count": 27,
   "metadata": {},
   "outputs": [],
   "source": [
    "l_tens = torch.Tensor([2]).long()"
   ]
  },
  {
   "cell_type": "code",
   "execution_count": 28,
   "metadata": {},
   "outputs": [
    {
     "data": {
      "text/plain": [
       "device(type='cpu')"
      ]
     },
     "execution_count": 28,
     "metadata": {},
     "output_type": "execute_result"
    }
   ],
   "source": [
    "device = torch.device('cuda' if torch.cuda.is_available() else 'cpu')\n",
    "device"
   ]
  },
  {
   "cell_type": "code",
   "execution_count": 29,
   "metadata": {},
   "outputs": [
    {
     "data": {
      "text/plain": [
       "device(type='cpu')"
      ]
     },
     "execution_count": 29,
     "metadata": {},
     "output_type": "execute_result"
    }
   ],
   "source": [
    "l_tens.device"
   ]
  },
  {
   "cell_type": "code",
   "execution_count": 30,
   "metadata": {},
   "outputs": [],
   "source": [
    "def get_non_uniform_label_smoothing(l_tens, n_classes, std=0.5):\n",
    "    device = l_tens.device\n",
    "    dist = get_gaussian_label_distribution(n_classes, std = std)\n",
    "    if device is not 'cpu':\n",
    "        soft_labels = torch.from_numpy(dist[l_tens.cpu().numpy()]).to(device)\n",
    "    else:\n",
    "        soft_labels = torch.from_numpy(dist[labels.numpy()])\n",
    "    return soft_labels"
   ]
  },
  {
   "cell_type": "code",
   "execution_count": 31,
   "metadata": {},
   "outputs": [
    {
     "data": {
      "text/plain": [
       "tensor([[2.6766e-04, 1.0798e-01, 7.9788e-01, 1.0798e-01, 2.6766e-04]],\n",
       "       dtype=torch.float64)"
      ]
     },
     "execution_count": 31,
     "metadata": {},
     "output_type": "execute_result"
    }
   ],
   "source": [
    "get_non_uniform_label_smoothing(l_tens, n_classes=5, std = 0.5)"
   ]
  },
  {
   "cell_type": "markdown",
   "metadata": {},
   "source": [
    "See if it works with a batch of labels:"
   ]
  },
  {
   "cell_type": "code",
   "execution_count": 32,
   "metadata": {},
   "outputs": [],
   "source": [
    "l_tens = torch.Tensor([0,1,2,3,4]).long()"
   ]
  },
  {
   "cell_type": "code",
   "execution_count": 33,
   "metadata": {},
   "outputs": [],
   "source": [
    "batch = get_non_uniform_label_smoothing(l_tens, n_classes=5, std = 0.75)"
   ]
  },
  {
   "cell_type": "code",
   "execution_count": 34,
   "metadata": {},
   "outputs": [
    {
     "data": {
      "image/png": "[encoded data removed]",
      "text/plain": [
       "<Figure size 1440x288 with 5 Axes>"
      ]
     },
     "metadata": {
      "needs_background": "light"
     },
     "output_type": "display_data"
    }
   ],
   "source": [
    "fig, ax = plt.subplots(ncols=5, figsize=(20,4))\n",
    "for i in range(n_classes):\n",
    "    ax[i].bar(np.arange(n_classes), batch[i])\n",
    "plt.show()"
   ]
  },
  {
   "cell_type": "markdown",
   "metadata": {},
   "source": [
    "### Encapsulating the whole thing\n",
    "We will be needing a version of `torch.CrossEntropyLoss()` that can handle one hot encoded labels:"
   ]
  },
  {
   "cell_type": "code",
   "execution_count": 35,
   "metadata": {},
   "outputs": [],
   "source": [
    "def cross_entropy_loss_one_hot(logits, target, reduction='mean'):\n",
    "    logp = F.log_softmax(logits, dim=1)\n",
    "    loss = torch.sum(-logp * target, dim=1)\n",
    "    if reduction == 'none':\n",
    "        return loss\n",
    "    elif reduction == 'mean':\n",
    "        return loss.mean()\n",
    "    elif reduction == 'sum':\n",
    "        return loss.sum()\n",
    "    else:\n",
    "        raise ValueError(\n",
    "            '`reduction` must be one of \\'none\\', \\'mean\\', or \\'sum\\'.')"
   ]
  },
  {
   "cell_type": "markdown",
   "metadata": {},
   "source": [
    "With this, we can encapsulate both label smoothing flavors in a single function that will return the appropriate loss function to be used as criterion:"
   ]
  },
  {
   "cell_type": "code",
   "execution_count": 36,
   "metadata": {},
   "outputs": [],
   "source": [
    "def label_smoothing_criterion(distribution='uniform', alpha=0.1, std =0.5, reduction='mean'):\n",
    "    '''\n",
    "    distribution can be ''uniform' or 'non-uniform'\n",
    "    '''\n",
    "    def _cross_entropy_loss_one_hot(logits, target, reduction='mean'):\n",
    "        logp = F.log_softmax(logits, dim=1)\n",
    "        loss = torch.sum(-logp * target, dim=1)\n",
    "        if reduction == 'none':\n",
    "            return loss\n",
    "        elif reduction == 'mean':\n",
    "            return loss.mean()\n",
    "        elif reduction == 'sum':\n",
    "            return loss.sum()\n",
    "        else:\n",
    "            raise ValueError(\n",
    "                '`reduction` must be one of \\'none\\', \\'mean\\', or \\'sum\\'.')\n",
    "    def _get_gaussian_label_distribution(n_classes, std=0.5):\n",
    "        CLs = []\n",
    "        for l in range(n_classes):\n",
    "            CLs.append(stats2.norm.pdf(np.arange(n_classes), l, std))\n",
    "        dists = np.stack(CLs, axis=0)\n",
    "        return dists\n",
    "    \n",
    "    def _one_hot_encoding_torch(l, n_classes):\n",
    "        return torch.zeros(l.size(0), n_classes).to(l.device).scatter_(1, l.view(-1, 1), 1)\n",
    "    \n",
    "    def _label_smoothing_criterion(logits, labels):\n",
    "        n_classes = logits.size(1)\n",
    "        device = logits.device\n",
    "        if distribution == 'uniform':\n",
    "            one_hot = _one_hot_encoding_torch(labels, n_classes)\n",
    "            uniform = torch.ones_like(one_hot)/n_classes\n",
    "            soft_labels =  (1 - alpha)*one_hot + alpha*uniform\n",
    "        elif distribution == 'non-uniform':\n",
    "            dist = _get_gaussian_label_distribution(n_classes, std=std)\n",
    "            if device is not 'cpu':\n",
    "                soft_labels = torch.from_numpy(dist[labels.cpu().numpy()]).to(device)\n",
    "            else:\n",
    "                soft_labels = torch.from_numpy(dist[labels.numpy()])\n",
    "        else:\n",
    "            print('Not implemented')\n",
    "            \n",
    "        loss = _cross_entropy_loss_one_hot(logits, soft_labels.float(), reduction)\n",
    "        return loss\n",
    "    return _label_smoothing_criterion"
   ]
  },
  {
   "cell_type": "code",
   "execution_count": 37,
   "metadata": {},
   "outputs": [],
   "source": [
    "loss_fn_ULS = label_smoothing_criterion(distribution='uniform', alpha=0.1)\n",
    "loss_fn_NULS = label_smoothing_criterion(distribution='non-uniform', std=0.75)"
   ]
  },
  {
   "cell_type": "code",
   "execution_count": 38,
   "metadata": {},
   "outputs": [
    {
     "data": {
      "text/plain": [
       "torch.Size([1, 1])"
      ]
     },
     "execution_count": 38,
     "metadata": {},
     "output_type": "execute_result"
    }
   ],
   "source": [
    "labels = torch.Tensor([4]).long().unsqueeze(dim=0)\n",
    "labels.shape"
   ]
  },
  {
   "cell_type": "code",
   "execution_count": 39,
   "metadata": {},
   "outputs": [],
   "source": [
    "logits_wrong = torch.Tensor([1, 0, 0, 0, 0]).float().unsqueeze(dim=0)\n",
    "logits_better = torch.Tensor([0, 0, 0, 1, 0]).float().unsqueeze(dim=0)"
   ]
  },
  {
   "cell_type": "code",
   "execution_count": 40,
   "metadata": {},
   "outputs": [
    {
     "data": {
      "text/plain": [
       "(tensor(1.8848), tensor(1.8848))"
      ]
     },
     "execution_count": 40,
     "metadata": {},
     "output_type": "execute_result"
    }
   ],
   "source": [
    "loss_fn_ULS(logits_wrong, labels), loss_fn_ULS(logits_better, labels)"
   ]
  },
  {
   "cell_type": "code",
   "execution_count": 41,
   "metadata": {},
   "outputs": [
    {
     "data": {
      "text/plain": [
       "(tensor(0.2918), tensor(0.2481))"
      ]
     },
     "execution_count": 41,
     "metadata": {},
     "output_type": "execute_result"
    }
   ],
   "source": [
    "loss_fn_NULS(logits_wrong, labels), loss_fn_NULS(logits_better, labels)"
   ]
  },
  {
   "cell_type": "markdown",
   "metadata": {},
   "source": [
    "### Using it in your code\n",
    "Simply import from the associated `n_uls.py` file:"
   ]
  },
  {
   "cell_type": "code",
   "execution_count": 42,
   "metadata": {},
   "outputs": [],
   "source": [
    "from n_uls import label_smoothing_criterion as ls_loss"
   ]
  },
  {
   "cell_type": "code",
   "execution_count": 43,
   "metadata": {},
   "outputs": [],
   "source": [
    "loss_fn_ULS = ls_loss(distribution='uniform', alpha=0.1)\n",
    "loss_fn_NULS = ls_loss(distribution='non-uniform', std=0.75)"
   ]
  },
  {
   "cell_type": "code",
   "execution_count": 44,
   "metadata": {},
   "outputs": [
    {
     "data": {
      "text/plain": [
       "(tensor(1.8848), tensor(1.8848))"
      ]
     },
     "execution_count": 44,
     "metadata": {},
     "output_type": "execute_result"
    }
   ],
   "source": [
    "loss_fn_ULS(logits_wrong, labels), loss_fn_ULS(logits_better, labels)"
   ]
  },
  {
   "cell_type": "code",
   "execution_count": 45,
   "metadata": {},
   "outputs": [
    {
     "data": {
      "text/plain": [
       "(tensor(0.2918), tensor(0.2481))"
      ]
     },
     "execution_count": 45,
     "metadata": {},
     "output_type": "execute_result"
    }
   ],
   "source": [
    "loss_fn_NULS(logits_wrong, labels), loss_fn_NULS(logits_better, labels)"
   ]
  }
 ],
 "metadata": {
  "kernelspec": {
   "display_name": "pytorch_cpu",
   "language": "python",
   "name": "pytorch_cpu"
  },
  "language_info": {
   "codemirror_mode": {
    "name": "ipython",
    "version": 3
   },
   "file_extension": ".py",
   "mimetype": "text/x-python",
   "name": "python",
   "nbconvert_exporter": "python",
   "pygments_lexer": "ipython3",
   "version": "3.7.5"
  }
 },
 "nbformat": 4,
 "nbformat_minor": 2
}
